{
 "metadata": {
  "language_info": {
   "codemirror_mode": {
    "name": "ipython",
    "version": 3
   },
   "file_extension": ".py",
   "mimetype": "text/x-python",
   "name": "python",
   "nbconvert_exporter": "python",
   "pygments_lexer": "ipython3",
   "version": "3.9.2"
  },
  "orig_nbformat": 2,
  "kernelspec": {
   "name": "python392jvsc74a57bd01b26aa9ebe5571cb3d44816f78736a045ce8320f83adc0724af254724997565a",
   "display_name": "Python 3.9.2 64-bit"
  },
  "metadata": {
   "interpreter": {
    "hash": "1b26aa9ebe5571cb3d44816f78736a045ce8320f83adc0724af254724997565a"
   }
  }
 },
 "nbformat": 4,
 "nbformat_minor": 2,
 "cells": [
  {
   "source": [
    "# Data Preprocessing\n",
    "\n",
    "## Data Cleaning\n",
    "\n",
    "LIST\n",
    "* Drop columns that are not relevant to the problem. Example: URL, host picture etc.\n",
    "* Find missing values for each column.\n",
    "* Convert columns to their correct data type.\n",
    "* One-hot-encode the categorical variables."
   ],
   "cell_type": "code",
   "metadata": {},
   "execution_count": null,
   "outputs": []
  },
  {
   "cell_type": "code",
   "execution_count": 1,
   "metadata": {},
   "outputs": [],
   "source": [
    "import pandas as pd\n",
    "import numpy as np \n",
    "import matplotlib.pyplot as plt\n",
    "import seaborn as sns"
   ]
  },
  {
   "cell_type": "code",
   "execution_count": 2,
   "metadata": {},
   "outputs": [],
   "source": [
    "# Import data\n",
    "df = pd.read_csv('listings.csv') \n",
    "amenities_columns = pd.read_csv('amenities_columns.csv')"
   ]
  },
  {
   "cell_type": "code",
   "execution_count": 3,
   "metadata": {},
   "outputs": [
    {
     "output_type": "stream",
     "name": "stdout",
     "text": [
      "Categorical variables:\n",
      "['host_response_time', 'host_response_rate', 'host_acceptance_rate', 'host_is_superhost', 'host_identity_verified', 'neighbourhood_cleansed', 'room_type', 'bathrooms_text', 'amenities', 'price', 'has_availability', 'instant_bookable']\n",
      "<ipython-input-3-f78b6b10159e>:32: FutureWarning: The default value of regex will change from True to False in a future version.\n",
      "  df['number_of_baths'] = df.bathrooms_text.str.replace(r\"[a-zA-Z]\",'')\n"
     ]
    }
   ],
   "source": [
    "# -*- coding: utf-8 -*-\n",
    "\"\"\"\n",
    "Created on Sat Apr  3 18:02:27 2021\n",
    "\n",
    "@author: leontaridiss\n",
    "\"\"\"\n",
    "\n",
    "df = df[['host_response_time','host_response_rate','host_acceptance_rate', 'host_is_superhost', 'host_identity_verified' ,'neighbourhood_cleansed','room_type', 'accommodates', 'bathrooms_text', 'bedrooms','beds', 'amenities', 'price',\n",
    "       'minimum_nights', 'maximum_nights', 'has_availability', 'number_of_reviews', 'review_scores_rating', 'review_scores_accuracy',\n",
    "       'review_scores_cleanliness', 'review_scores_checkin',\n",
    "       'review_scores_communication', 'review_scores_location',\n",
    "       'review_scores_value', 'instant_bookable', 'reviews_per_month' ]]\n",
    "\n",
    "# Get list of categorical variables\n",
    "s = (df.dtypes == 'object')\n",
    "object_cols = list(s[s].index)\n",
    "\n",
    "print(\"Categorical variables:\")\n",
    "print(object_cols)\n",
    "\n",
    "df.host_response_rate = df.host_response_rate.replace({'\\%':''}, regex = True).astype(float)\n",
    "df.host_acceptance_rate = df.host_acceptance_rate.replace({'\\%':''}, regex = True).astype(float)\n",
    "\n",
    "df.price = df.price.replace({'\\$':''}, regex = True)\n",
    "df.price = df.price.replace({'\\,':''}, regex = True).astype(float)\n",
    "\n",
    "# df['number_of_baths'] = df.bathrooms_text.str.replace(r'[^0-9]+', '')\n",
    "# df['text_of_baths'] = df.bathrooms_text.str.extract('(\\D+)', expand=False)\n",
    "\n",
    "# df['number_of_baths'] = df.bathrooms_text.str.replace('^[^\\d]*', '')\n",
    "\n",
    "df['number_of_baths'] = df.bathrooms_text.str.replace(r\"[a-zA-Z]\",'')\n",
    "df['number_of_baths'] = df.number_of_baths.replace({'\\-':np.nan}, regex = True)\n",
    "df['number_of_baths'] = df['number_of_baths'].astype(float)\n",
    "\n",
    " \n",
    "c = df.bathrooms_text.str.split(' ', expand = True)\n",
    "df['shared_bath'] = c[1]\n",
    "\n",
    "df.shared_bath = df.shared_bath == 'shared'\n",
    "df = df.drop(columns = ['bathrooms_text', 'amenities'], axis = 1)\n",
    "df = pd.concat([df, amenities_columns], axis=1)\n"
   ]
  },
  {
   "cell_type": "code",
   "execution_count": 4,
   "metadata": {},
   "outputs": [
    {
     "output_type": "execute_result",
     "data": {
      "text/plain": [
       "(9467, 59)"
      ]
     },
     "metadata": {},
     "execution_count": 4
    }
   ],
   "source": [
    "df.shape"
   ]
  },
  {
   "cell_type": "code",
   "execution_count": null,
   "metadata": {},
   "outputs": [],
   "source": [
    "df.isna().sum()"
   ]
  },
  {
   "cell_type": "code",
   "execution_count": 6,
   "metadata": {},
   "outputs": [],
   "source": [
    "df.drop( ['Unnamed: 0'],axis=1,inplace=True)"
   ]
  },
  {
   "source": [
    " # Find missing values for each column #"
   ],
   "cell_type": "markdown",
   "metadata": {}
  },
  {
   "cell_type": "code",
   "execution_count": null,
   "metadata": {},
   "outputs": [],
   "source": [
    "df.nunique()  # unique values in new dataframe"
   ]
  },
  {
   "cell_type": "code",
   "execution_count": null,
   "metadata": {},
   "outputs": [],
   "source": [
    "df.isna().sum()"
   ]
  },
  {
   "cell_type": "code",
   "execution_count": null,
   "metadata": {},
   "outputs": [],
   "source": [
    "df.isna().sum()/len(df)*100 #percentage of missing values for each col"
   ]
  },
  {
   "source": [
    "## FIX MISSING VALUES AND FILL THE T/F COLS\n",
    "LIST \n",
    "* instant_bookable\n",
    "* has_availability\n",
    "* host_identity_verified\n",
    "* host_is_superhost"
   ],
   "cell_type": "markdown",
   "metadata": {}
  },
  {
   "cell_type": "code",
   "execution_count": 7,
   "metadata": {},
   "outputs": [],
   "source": [
    "df=df.dropna(subset=['instant_bookable','has_availability','host_identity_verified','host_is_superhost','beds'],how='any')"
   ]
  },
  {
   "cell_type": "code",
   "execution_count": 8,
   "metadata": {},
   "outputs": [],
   "source": [
    "ColList=['instant_bookable','has_availability','host_identity_verified','host_is_superhost']\n",
    "df['instant_bookable']=df['instant_bookable'].replace({'t':1,'f':0})\n",
    "df['has_availability']=df['has_availability'].replace({'t':1,'f':0})\n",
    "df['host_identity_verified']=df['host_identity_verified'].replace({'t':1,'f':0})\n",
    "df['host_is_superhost']=df['host_is_superhost'].replace({'t':1,'f':0})\n",
    "df['shared_bath']=df['shared_bath'].replace({True:1,False:0})\n",
    "       "
   ]
  },
  {
   "source": [
    "## FIX THE HOST COLS\n",
    "### Fill the NaN with strategy  \n"
   ],
   "cell_type": "markdown",
   "metadata": {}
  },
  {
   "cell_type": "code",
   "execution_count": 9,
   "metadata": {},
   "outputs": [],
   "source": [
    "fill_strategy={\n",
    "    'host_response_time': df['host_response_time'].mode()[0],\n",
    "    'host_response_rate': df['host_response_rate'].mode()[0],\n",
    "    'host_acceptance_rate': df['host_acceptance_rate'].mode()[0]\n",
    "}\n",
    "\n",
    "df=df.fillna(fill_strategy)"
   ]
  },
  {
   "source": [
    "## FIX THE BEDROOMS NANS equals zero"
   ],
   "cell_type": "markdown",
   "metadata": {}
  },
  {
   "cell_type": "code",
   "execution_count": 10,
   "metadata": {},
   "outputs": [],
   "source": [
    "df['bedrooms']=df['bedrooms'].fillna(0)"
   ]
  },
  {
   "source": [
    "# FIX REVIEWS WITH MEAN "
   ],
   "cell_type": "markdown",
   "metadata": {}
  },
  {
   "cell_type": "code",
   "execution_count": 11,
   "metadata": {},
   "outputs": [],
   "source": [
    "df['review_scores_rating']=df['review_scores_rating'].fillna(df['review_scores_rating'].median())\n",
    "df['review_scores_accuracy']=df['review_scores_accuracy'].fillna(df['review_scores_accuracy'].median())\n",
    "df['review_scores_cleanliness']=df['review_scores_cleanliness'].fillna(df['review_scores_cleanliness'].median())\n",
    "df['review_scores_checkin']=df['review_scores_checkin'].fillna(df['review_scores_checkin'].median())\n",
    "df['review_scores_communication']=df['review_scores_communication'].fillna(df['review_scores_communication'].median())\n",
    "df['review_scores_location']=df['review_scores_location'].fillna(df['review_scores_location'].median())\n",
    "df['review_scores_value']=df['review_scores_value'].fillna(df['review_scores_value'].median())\n",
    "df['reviews_per_month']=df['reviews_per_month'].fillna(df['reviews_per_month'].median())\n",
    "df['number_of_baths']=df['number_of_baths'].fillna(df['number_of_baths'].median())"
   ]
  },
  {
   "source": [
    "# ENCODING COLS"
   ],
   "cell_type": "markdown",
   "metadata": {}
  },
  {
   "cell_type": "code",
   "execution_count": 23,
   "metadata": {},
   "outputs": [
    {
     "output_type": "stream",
     "name": "stdout",
     "text": [
      "Categorical variables:\n[]\n"
     ]
    }
   ],
   "source": [
    "s = (df.dtypes == 'object')\n",
    "object_cols = list(s[s].index)\n",
    "\n",
    "print(\"Categorical variables:\")\n",
    "print(object_cols)"
   ]
  },
  {
   "cell_type": "code",
   "execution_count": 13,
   "metadata": {},
   "outputs": [],
   "source": [
    "map_strategy={\n",
    "    'within an hour': 0,\n",
    "    'within a few hours': 1,\n",
    "    'within a day': 2,\n",
    "    'a few days or more': 3\n",
    "}\n",
    "\n",
    "df['host_response_time']=df['host_response_time'].map(map_strategy)"
   ]
  },
  {
   "cell_type": "code",
   "execution_count": 14,
   "metadata": {},
   "outputs": [],
   "source": [
    "df_hot=pd.get_dummies(df['room_type'])\n",
    "df = pd.concat([df, df_hot], axis=1)"
   ]
  },
  {
   "cell_type": "code",
   "execution_count": 15,
   "metadata": {},
   "outputs": [
    {
     "output_type": "execute_result",
     "data": {
      "text/plain": [
       "0       0.0\n",
       "1       0.0\n",
       "2       0.0\n",
       "3       0.0\n",
       "4       0.0\n",
       "       ... \n",
       "9462    0.0\n",
       "9463    0.0\n",
       "9464    0.0\n",
       "9465    0.0\n",
       "9466    0.0\n",
       "Name: Shared room, Length: 9409, dtype: float64"
      ]
     },
     "metadata": {},
     "execution_count": 15
    }
   ],
   "source": [
    "df['Private room'].astype(float)\n",
    "df['Entire home/apt'].astype(float)\n",
    "df['Hotel room'].astype(float)\n",
    "df['Shared room'].astype(float)"
   ]
  },
  {
   "cell_type": "code",
   "execution_count": 16,
   "metadata": {},
   "outputs": [],
   "source": [
    "df.drop( ['room_type'],axis=1,inplace=True)"
   ]
  },
  {
   "cell_type": "code",
   "execution_count": 17,
   "metadata": {},
   "outputs": [],
   "source": [
    "df_hot_two=pd.get_dummies(df['neighbourhood_cleansed'])\n",
    "df_hot_two.astype(float)\n",
    "df = pd.concat([df, df_hot_two], axis=1)"
   ]
  },
  {
   "cell_type": "code",
   "execution_count": 22,
   "metadata": {},
   "outputs": [],
   "source": [
    "df.drop( ['neighbourhood_cleansed'],axis=1,inplace=True)"
   ]
  },
  {
   "cell_type": "code",
   "execution_count": 26,
   "metadata": {},
   "outputs": [
    {
     "output_type": "execute_result",
     "data": {
      "text/plain": [
       "(9409, 104)"
      ]
     },
     "metadata": {},
     "execution_count": 26
    }
   ],
   "source": [
    "df.shape"
   ]
  },
  {
   "cell_type": "code",
   "execution_count": 25,
   "metadata": {},
   "outputs": [
    {
     "output_type": "execute_result",
     "data": {
      "text/plain": [
       "Index(['host_response_time', 'host_response_rate', 'host_acceptance_rate',\n",
       "       'host_is_superhost', 'host_identity_verified', 'accommodates',\n",
       "       'bedrooms', 'beds', 'price', 'minimum_nights',\n",
       "       ...\n",
       "       'ΠΕΤΡΑΛΩΝΑ', 'ΠΛΑΤΕΙΑ ΑΜΕΡΙΚΗΣ', 'ΠΛΑΤΕΙΑ ΑΤΤΙΚΗΣ', 'ΠΟΛΥΓΩΝΟ',\n",
       "       'ΠΡΟΜΠΟΝΑ', 'ΡΗΓΙΛΛΗΣ', 'ΡΙΖΟΥΠΟΛΗ', 'ΣΕΠΟΛΙΑ', 'ΣΤΑΔΙΟ',\n",
       "       'ΣΤΑΘΜΟΣ ΛΑΡΙΣΗΣ'],\n",
       "      dtype='object', length=104)"
      ]
     },
     "metadata": {},
     "execution_count": 25
    }
   ],
   "source": [
    "df.columns"
   ]
  },
  {
   "source": [
    "#  Transform to int "
   ],
   "cell_type": "markdown",
   "metadata": {}
  },
  {
   "cell_type": "code",
   "execution_count": 19,
   "metadata": {},
   "outputs": [
    {
     "output_type": "execute_result",
     "data": {
      "text/plain": [
       "host_response_time          int64\n",
       "host_response_rate        float64\n",
       "host_acceptance_rate      float64\n",
       "host_is_superhost           int64\n",
       "host_identity_verified      int64\n",
       "                           ...   \n",
       "ΡΗΓΙΛΛΗΣ                    uint8\n",
       "ΡΙΖΟΥΠΟΛΗ                   uint8\n",
       "ΣΕΠΟΛΙΑ                     uint8\n",
       "ΣΤΑΔΙΟ                      uint8\n",
       "ΣΤΑΘΜΟΣ ΛΑΡΙΣΗΣ             uint8\n",
       "Length: 105, dtype: object"
      ]
     },
     "metadata": {},
     "execution_count": 19
    }
   ],
   "source": [
    "df.dtypes"
   ]
  },
  {
   "cell_type": "code",
   "execution_count": 27,
   "metadata": {},
   "outputs": [],
   "source": [
    "df.to_csv('ListingsClean.csv')\n",
    "\n",
    "\n",
    "\n",
    "\n",
    "\n"
   ]
  }
 ]
}