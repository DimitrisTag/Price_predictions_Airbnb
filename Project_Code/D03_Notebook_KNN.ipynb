{
 "metadata": {
  "language_info": {
   "codemirror_mode": {
    "name": "ipython",
    "version": 3
   },
   "file_extension": ".py",
   "mimetype": "text/x-python",
   "name": "python",
   "nbconvert_exporter": "python",
   "pygments_lexer": "ipython3",
   "version": 3
  },
  "orig_nbformat": 2
 },
 "nbformat": 4,
 "nbformat_minor": 2,
 "cells": [
  {
   "cell_type": "code",
   "execution_count": null,
   "metadata": {},
   "outputs": [],
   "source": [
    "import numpy as np\n",
    "import pandas as pd"
   ]
  },
  {
   "cell_type": "code",
   "execution_count": null,
   "metadata": {},
   "outputs": [],
   "source": [
    "# Load the raw dataset\n",
    "df = pd.read_csv('listings.csv')\n",
    "# Load the amenities dataset\n",
    "amenities_columns = pd.read_csv('amenities_columns.csv')"
   ]
  },
  {
   "cell_type": "code",
   "execution_count": null,
   "metadata": {},
   "outputs": [],
   "source": [
    "# Keep usefull columns\n",
    "df = df[['host_response_time','host_response_rate','host_acceptance_rate', 'host_is_superhost', 'host_identity_verified' ,'neighbourhood_cleansed','room_type', 'accommodates', 'bathrooms_text', 'bedrooms','beds', 'amenities', 'price',\n",
    "       'minimum_nights', 'maximum_nights', 'has_availability', 'number_of_reviews', 'review_scores_rating', 'review_scores_accuracy',\n",
    "       'review_scores_cleanliness', 'review_scores_checkin',\n",
    "       'review_scores_communication', 'review_scores_location',\n",
    "       'review_scores_value', 'instant_bookable', 'reviews_per_month','latitude', 'longitude']]"
   ]
  },
  {
   "cell_type": "code",
   "execution_count": null,
   "metadata": {},
   "outputs": [],
   "source": [
    "# Replace symbols \n",
    "df.host_response_rate = df.host_response_rate.replace({'\\%':''}, regex = True).astype(float)\n",
    "df.host_acceptance_rate = df.host_acceptance_rate.replace({'\\%':''}, regex = True).astype(float)\n",
    "df.price = df.price.replace({'\\$':''}, regex = True)\n",
    "df.price = df.price.replace({'\\,':''}, regex = True).astype(float)"
   ]
  },
  {
   "cell_type": "code",
   "execution_count": null,
   "metadata": {},
   "outputs": [],
   "source": [
    "# Fix the bathrooms_text column\n",
    "df['number_of_baths'] = df.bathrooms_text.str.replace(r\"[a-zA-Z]\",'')\n",
    "df['number_of_baths'] = df.number_of_baths.replace({'\\-':np.nan}, regex = True)\n",
    "df['number_of_baths'] = df['number_of_baths'].astype(float)\n",
    "c = df.bathrooms_text.str.split(' ', expand = True)\n",
    "df['shared_bath'] = c[1]\n",
    "\n",
    "df.shared_bath = df.shared_bath == 'shared'\n",
    "df = df.drop(columns = ['bathrooms_text', 'amenities'], axis = 1)"
   ]
  },
  {
   "cell_type": "code",
   "execution_count": null,
   "metadata": {},
   "outputs": [],
   "source": [
    "# Merge amenities dataset with the row dataset\n",
    "df = pd.concat([df, amenities_columns], axis=1)"
   ]
  },
  {
   "cell_type": "code",
   "execution_count": null,
   "metadata": {},
   "outputs": [],
   "source": [
    "# Calculate the distance from Acropolis\n",
    "from geopy.distance import geodesic\n",
    "acropolis = (37.97171, 23.72603)\n",
    "distances = []\n",
    "df.longitude.dropna\n",
    "df.latitude.dropna\n",
    "for index,row in df.iterrows():\n",
    "    listing = (row.latitude , row.longitude)\n",
    "    distance = geodesic(acropolis, listing).kilometers\n",
    "    distances.append(distance)\n",
    "\n",
    "distances = [element * 1000 for element in distances]\n",
    "df['distance'] = distances"
   ]
  },
  {
   "cell_type": "code",
   "execution_count": null,
   "metadata": {},
   "outputs": [],
   "source": [
    "# Drop higf correleted columns\n",
    "df.drop('Unnamed: 0',axis='columns', inplace=True)\n",
    "df.drop([ 'review_scores_accuracy', 'reviews_per_month',\n",
    "        'review_scores_cleanliness', 'review_scores_checkin','balcony','bedrooms', \n",
    "        'review_scores_communication', 'review_scores_location','review_scores_value'],axis='columns', inplace=True)"
   ]
  },
  {
   "cell_type": "code",
   "execution_count": null,
   "metadata": {},
   "outputs": [],
   "source": [
    "# Drop rows with missing values \n",
    "df=df.dropna(subset=['instant_bookable','has_availability','host_identity_verified','host_is_superhost','beds'],how='any')"
   ]
  },
  {
   "cell_type": "code",
   "execution_count": null,
   "metadata": {},
   "outputs": [],
   "source": [
    "# Apply filters\n",
    "df = df.drop(df[df.price > 150].index)\n",
    "df.drop(df[df.beds > 8].index, inplace=True)\n",
    "df.drop(df[df.minimum_nights > 200].index, inplace=True)\n",
    "df.drop(df[df.number_of_reviews > 600].index, inplace=True)\n",
    "df.drop(df[df.maximum_nights > 1200].index, inplace=True)\n",
    "df.drop(df[df.number_of_baths > 5].index, inplace=True)\n",
    "index_names = df[ (df['beds'] <= 1) & (df['price'] > 90)].index\n",
    "df.drop(index_names, inplace = True)"
   ]
  },
  {
   "cell_type": "code",
   "execution_count": null,
   "metadata": {},
   "outputs": [],
   "source": [
    "# Label Encoding for host_response_time\n",
    "map_strategy={\n",
    "    'within an hour': 0,\n",
    "    'within a few hours': 1,\n",
    "    'within a day': 2,\n",
    "    'a few days or more': 3\n",
    "}\n",
    "\n",
    "df['host_response_time']=df['host_response_time'].map(map_strategy)"
   ]
  },
  {
   "cell_type": "code",
   "execution_count": null,
   "metadata": {},
   "outputs": [],
   "source": [
    "# Replace true & false values with 1 & 0 \n",
    "df['instant_bookable']=df['instant_bookable'].replace({'t':1,'f':0})\n",
    "df['has_availability']=df['has_availability'].replace({'t':1,'f':0})\n",
    "df['host_identity_verified']=df['host_identity_verified'].replace({'t':1,'f':0})\n",
    "df['host_is_superhost']=df['host_is_superhost'].replace({'t':1,'f':0})\n",
    "df['shared_bath']=df['shared_bath'].replace({True:1,False:0})"
   ]
  },
  {
   "cell_type": "code",
   "execution_count": null,
   "metadata": {},
   "outputs": [],
   "source": [
    "# one-hot encoding \r\n",
    "df_hot=pd.get_dummies(df[['room_type', 'neighbourhood_cleansed']])\r\n",
    "df = pd.concat([df, df_hot], axis=1)\r\n",
    "df.drop(['room_type','neighbourhood_cleansed'],axis=1,inplace=True)"
   ]
  },
  {
   "cell_type": "code",
   "execution_count": null,
   "metadata": {},
   "outputs": [],
   "source": [
    "# Export dataset for modelling\n",
    "df.to_csv('knn_imputed.csv')"
   ]
  }
 ]
}