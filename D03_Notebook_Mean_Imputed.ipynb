{
 "metadata": {
  "language_info": {
   "codemirror_mode": {
    "name": "ipython",
    "version": 3
   },
   "file_extension": ".py",
   "mimetype": "text/x-python",
   "name": "python",
   "nbconvert_exporter": "python",
   "pygments_lexer": "ipython3",
   "version": "3.7.9-final"
  },
  "orig_nbformat": 2,
  "kernelspec": {
   "name": "python379jvsc74a57bd09fb070952a3c7a0f0cfe2bee8fd6528ce5023bd4f9dc945281412109f1920b77",
   "display_name": "Python 3.7.9 64-bit"
  },
  "metadata": {
   "interpreter": {
    "hash": "1b26aa9ebe5571cb3d44816f78736a045ce8320f83adc0724af254724997565a"
   }
  }
 },
 "nbformat": 4,
 "nbformat_minor": 2,
 "cells": [
  {
   "source": [
    "# Data Preprocessing\n",
    "\n",
    "## Data Cleaning\n",
    "\n",
    "\n",
    "* Drop columns that are not relevant to the problem. Example: URL, host picture etc.\n",
    "* Find missing values for each column.\n",
    "* Convert columns to their correct data type.\n",
    "* One-hot-encode the categorical variables."
   ],
   "cell_type": "markdown",
   "metadata": {}
  },
  {
   "cell_type": "code",
   "execution_count": 1,
   "metadata": {},
   "outputs": [],
   "source": [
    "import pandas as pd\n",
    "import numpy as np \n",
    "import matplotlib.pyplot as plt\n",
    "import seaborn as sns"
   ]
  },
  {
   "cell_type": "code",
   "execution_count": 2,
   "metadata": {},
   "outputs": [],
   "source": [
    "# Import data\n",
    "df = pd.read_csv('data/listings.csv') \n",
    "amenities_columns = pd.read_csv('data/amenities_columns.csv')"
   ]
  },
  {
   "source": [
    "## Compute a new feature with distance from acropolis"
   ],
   "cell_type": "markdown",
   "metadata": {}
  },
  {
   "cell_type": "code",
   "execution_count": 3,
   "metadata": {},
   "outputs": [],
   "source": [
    "from geopy.distance import geodesic\n",
    "acropolis = (37.97171, 23.72603)\n",
    "distances = []\n",
    "df.longitude.dropna\n",
    "df.latitude.dropna\n",
    "for index,row in df.iterrows():\n",
    "    listing = (row.latitude , row.longitude)\n",
    "    distance = geodesic(acropolis, listing).kilometers\n",
    "    distances.append(distance)\n",
    "\n",
    "distances = [element * 1000 for element in distances]\n",
    "df['distance'] = distances"
   ]
  },
  {
   "source": [
    "## Keep features we want"
   ],
   "cell_type": "markdown",
   "metadata": {}
  },
  {
   "cell_type": "code",
   "execution_count": 4,
   "metadata": {},
   "outputs": [
    {
     "output_type": "stream",
     "name": "stdout",
     "text": [
      "Categorical variables:\n",
      "['host_response_time', 'host_response_rate', 'host_acceptance_rate', 'host_is_superhost', 'host_identity_verified', 'neighbourhood_cleansed', 'room_type', 'bathrooms_text', 'amenities', 'price', 'has_availability', 'instant_bookable']\n",
      "ipykernel_launcher:32: FutureWarning: The default value of regex will change from True to False in a future version.\n"
     ]
    }
   ],
   "source": [
    "df = df[['host_response_time','distance','host_response_rate','host_acceptance_rate', 'host_is_superhost', 'host_identity_verified' ,'neighbourhood_cleansed','room_type', 'accommodates', 'bathrooms_text', 'bedrooms','beds', 'amenities', 'price',\n",
    "       'minimum_nights', 'maximum_nights', 'has_availability', 'number_of_reviews', 'review_scores_rating', 'review_scores_accuracy',\n",
    "       'review_scores_cleanliness', 'review_scores_checkin',\n",
    "       'review_scores_communication', 'review_scores_location',\n",
    "       'review_scores_value', 'instant_bookable', 'reviews_per_month' ]]"
   ]
  },
  {
   "source": [
    "## Transform price, host response and acceptance rate"
   ],
   "cell_type": "markdown",
   "metadata": {}
  },
  {
   "cell_type": "code",
   "execution_count": null,
   "metadata": {},
   "outputs": [],
   "source": [
    "df.host_response_rate = df.host_response_rate.replace({'\\%':''}, regex = True).astype(float)\n",
    "df.host_acceptance_rate = df.host_acceptance_rate.replace({'\\%':''}, regex = True).astype(float)\n",
    "\n",
    "df.price = df.price.replace({'\\$':''}, regex = True)\n",
    "df.price = df.price.replace({'\\,':''}, regex = True).astype(float)"
   ]
  },
  {
   "source": [
    "## Handle bathrooms feature and create shared feature"
   ],
   "cell_type": "markdown",
   "metadata": {}
  },
  {
   "cell_type": "code",
   "execution_count": null,
   "metadata": {},
   "outputs": [],
   "source": [
    "df['number_of_baths'] = df.bathrooms_text.str.replace(r\"[a-zA-Z]\",'')\n",
    "df['number_of_baths'] = df.number_of_baths.replace({'\\-':np.nan}, regex = True)\n",
    "df['number_of_baths'] = df['number_of_baths'].astype(float)\n",
    " \n",
    "c = df.bathrooms_text.str.split(' ', expand = True)\n",
    "df['shared_bath'] = c[1]\n",
    "\n",
    "df.shared_bath = df.shared_bath == 'shared'\n",
    "df = df.drop(columns = ['bathrooms_text', 'amenities'], axis = 1)"
   ]
  },
  {
   "source": [
    "## Drop Unnamed column and add amenities columns"
   ],
   "cell_type": "markdown",
   "metadata": {}
  },
  {
   "cell_type": "code",
   "execution_count": 7,
   "metadata": {},
   "outputs": [],
   "source": [
    "df.drop( ['Unnamed: 0'],axis=1,inplace=True)\n",
    "df = pd.concat([df, amenities_columns], axis=1)"
   ]
  },
  {
   "source": [
    "## FIX MISSING VALUES AND FILL THE T/F COLS\n",
    "LIST \n",
    "* instant_bookable\n",
    "* has_availability\n",
    "* host_identity_verified\n",
    "* host_is_superhost"
   ],
   "cell_type": "markdown",
   "metadata": {}
  },
  {
   "cell_type": "code",
   "execution_count": 11,
   "metadata": {},
   "outputs": [],
   "source": [
    "df=df.dropna(subset=['instant_bookable','has_availability','host_identity_verified','host_is_superhost','beds'],how='any')"
   ]
  },
  {
   "cell_type": "code",
   "execution_count": 12,
   "metadata": {},
   "outputs": [],
   "source": [
    "ColList=['instant_bookable','has_availability','host_identity_verified','host_is_superhost']\n",
    "df['instant_bookable']=df['instant_bookable'].replace({'t':1,'f':0})\n",
    "df['has_availability']=df['has_availability'].replace({'t':1,'f':0})\n",
    "df['host_identity_verified']=df['host_identity_verified'].replace({'t':1,'f':0})\n",
    "df['host_is_superhost']=df['host_is_superhost'].replace({'t':1,'f':0})\n",
    "df['shared_bath']=df['shared_bath'].replace({True:1,False:0})       "
   ]
  },
  {
   "source": [
    "## FIX THE HOST COLS\n",
    "### Fill the NaN with strategy  \n"
   ],
   "cell_type": "markdown",
   "metadata": {}
  },
  {
   "cell_type": "code",
   "execution_count": 13,
   "metadata": {},
   "outputs": [],
   "source": [
    "fill_strategy={\n",
    "    'host_response_time': df['host_response_time'].mode()[0],\n",
    "    'host_response_rate': df['host_response_rate'].mode()[0],\n",
    "    'host_acceptance_rate': df['host_acceptance_rate'].mode()[0]\n",
    "}\n",
    "df=df.fillna(fill_strategy)"
   ]
  },
  {
   "source": [
    "## FIX THE BEDROOMS NANS equals zero"
   ],
   "cell_type": "markdown",
   "metadata": {}
  },
  {
   "cell_type": "code",
   "execution_count": 14,
   "metadata": {},
   "outputs": [],
   "source": [
    "df['bedrooms']=df['bedrooms'].fillna(0)"
   ]
  },
  {
   "source": [
    "## FIX REVIEWS WITH MEAN "
   ],
   "cell_type": "markdown",
   "metadata": {}
  },
  {
   "cell_type": "code",
   "execution_count": 15,
   "metadata": {},
   "outputs": [],
   "source": [
    "df['review_scores_rating']=df['review_scores_rating'].fillna(df['review_scores_rating'].median())\n",
    "df['review_scores_accuracy']=df['review_scores_accuracy'].fillna(df['review_scores_accuracy'].median())\n",
    "df['review_scores_cleanliness']=df['review_scores_cleanliness'].fillna(df['review_scores_cleanliness'].median())\n",
    "df['review_scores_checkin']=df['review_scores_checkin'].fillna(df['review_scores_checkin'].median())\n",
    "df['review_scores_communication']=df['review_scores_communication'].fillna(df['review_scores_communication'].median())\n",
    "df['review_scores_location']=df['review_scores_location'].fillna(df['review_scores_location'].median())\n",
    "df['review_scores_value']=df['review_scores_value'].fillna(df['review_scores_value'].median())\n",
    "df['reviews_per_month']=df['reviews_per_month'].fillna(df['reviews_per_month'].median())\n",
    "df['number_of_baths']=df['number_of_baths'].fillna(df['number_of_baths'].median())"
   ]
  },
  {
   "source": [
    "# ENCODING COLS"
   ],
   "cell_type": "markdown",
   "metadata": {}
  },
  {
   "cell_type": "code",
   "execution_count": 17,
   "metadata": {},
   "outputs": [],
   "source": [
    "map_strategy={\n",
    "    'within an hour': 0,\n",
    "    'within a few hours': 1,\n",
    "    'within a day': 2,\n",
    "    'a few days or more': 3\n",
    "}\n",
    "df['host_response_time']=df['host_response_time'].map(map_strategy)"
   ]
  },
  {
   "cell_type": "code",
   "execution_count": 18,
   "metadata": {},
   "outputs": [],
   "source": [
    "df_hot=pd.get_dummies(df['room_type'])\n",
    "df = pd.concat([df, df_hot], axis=1)"
   ]
  },
  {
   "cell_type": "code",
   "execution_count": 19,
   "metadata": {},
   "outputs": [
    {
     "output_type": "execute_result",
     "data": {
      "text/plain": [
       "0       0.0\n",
       "1       0.0\n",
       "2       0.0\n",
       "3       0.0\n",
       "4       0.0\n",
       "       ... \n",
       "9462    0.0\n",
       "9463    0.0\n",
       "9464    0.0\n",
       "9465    0.0\n",
       "9466    0.0\n",
       "Name: Shared room, Length: 9409, dtype: float64"
      ]
     },
     "metadata": {},
     "execution_count": 19
    }
   ],
   "source": [
    "df['Private room'].astype(float)\n",
    "df['Entire home/apt'].astype(float)\n",
    "df['Hotel room'].astype(float)\n",
    "df['Shared room'].astype(float)"
   ]
  },
  {
   "cell_type": "code",
   "execution_count": 20,
   "metadata": {},
   "outputs": [],
   "source": [
    "df.drop( ['room_type'],axis=1,inplace=True)"
   ]
  },
  {
   "cell_type": "code",
   "execution_count": 21,
   "metadata": {},
   "outputs": [],
   "source": [
    "df_hot_two=pd.get_dummies(df['neighbourhood_cleansed'])\n",
    "df_hot_two.astype(float)\n",
    "df = pd.concat([df, df_hot_two], axis=1)"
   ]
  },
  {
   "cell_type": "code",
   "execution_count": 22,
   "metadata": {},
   "outputs": [],
   "source": [
    "df.drop( ['neighbourhood_cleansed'],axis=1,inplace=True)"
   ]
  },
  {
   "source": [
    "## drop some cols with high correlation "
   ],
   "cell_type": "markdown",
   "metadata": {}
  },
  {
   "cell_type": "code",
   "execution_count": 26,
   "metadata": {},
   "outputs": [],
   "source": [
    "df.drop(['bedrooms','review_scores_accuracy','review_scores_cleanliness','review_scores_checkin','review_scores_communication','review_scores_location','review_scores_value','reviews_per_month'], axis = 1, inplace=True)"
   ]
  },
  {
   "source": [
    "## Filtering some outliers"
   ],
   "cell_type": "markdown",
   "metadata": {}
  },
  {
   "cell_type": "code",
   "execution_count": null,
   "metadata": {},
   "outputs": [],
   "source": [
    "df = df.drop(df[df.price > 150].index)\n",
    "df.drop(df[df.beds > 8].index, inplace=True)\n",
    "df.drop(df[df.minimum_nights > 200].index, inplace=True)\n",
    "df.drop(df[df.number_of_reviews > 600].index, inplace=True)\n",
    "df.drop(df[df.maximum_nights > 1200].index, inplace=True)\n",
    "df.drop(df[df.number_of_baths > 5].index, inplace=True)\n",
    "index_names = df[ ((df['beds'] <= 1) & (df['price'] > 90))].index\n",
    "df.drop(index_names, inplace = True)"
   ]
  },
  {
   "source": [
    "## Moving column price, pos last "
   ],
   "cell_type": "markdown",
   "metadata": {}
  },
  {
   "cell_type": "code",
   "execution_count": 27,
   "metadata": {},
   "outputs": [],
   "source": [
    "col_target = ['price']\n",
    "df = df[[c for c in df if c not in col_target] \n",
    "        + [c for c in col_target if c in df]]"
   ]
  },
  {
   "source": [
    "## Export to csv"
   ],
   "cell_type": "markdown",
   "metadata": {}
  },
  {
   "cell_type": "code",
   "execution_count": 28,
   "metadata": {},
   "outputs": [],
   "source": [
    "df.to_csv('ListingsFinal.csv', index=False)"
   ]
  }
 ]
}
